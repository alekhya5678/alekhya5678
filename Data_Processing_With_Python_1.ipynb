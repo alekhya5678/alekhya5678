{
  "nbformat": 4,
  "nbformat_minor": 0,
  "metadata": {
    "colab": {
      "provenance": [],
      "authorship_tag": "ABX9TyM2kaX4mSFmVY/6DQRqMrTk",
      "include_colab_link": true
    },
    "kernelspec": {
      "name": "python3",
      "display_name": "Python 3"
    },
    "language_info": {
      "name": "python"
    }
  },
  "cells": [
    {
      "cell_type": "markdown",
      "metadata": {
        "id": "view-in-github",
        "colab_type": "text"
      },
      "source": [
        "<a href=\"https://colab.research.google.com/github/alekhya5678/alekhya5678/blob/main/Data_Processing_With_Python_1.ipynb\" target=\"_parent\"><img src=\"https://colab.research.google.com/assets/colab-badge.svg\" alt=\"Open In Colab\"/></a>"
      ]
    },
    {
      "cell_type": "code",
      "execution_count": null,
      "metadata": {
        "id": "crUk29YRf4II"
      },
      "outputs": [],
      "source": [
        "!wget https://www.gutenberg.org/files/11/11-0.txt"
      ]
    },
    {
      "cell_type": "code",
      "source": [
        "file1=open('11-0.txt','r')"
      ],
      "metadata": {
        "id": "wrSy8H64gVEZ"
      },
      "execution_count": 71,
      "outputs": []
    },
    {
      "cell_type": "code",
      "source": [
        "file_buffer=file1.read()"
      ],
      "metadata": {
        "id": "mfR0cRWpjTxX"
      },
      "execution_count": 72,
      "outputs": []
    },
    {
      "cell_type": "code",
      "source": [
        "len(file_buffer)"
      ],
      "metadata": {
        "colab": {
          "base_uri": "https://localhost:8080/"
        },
        "id": "ibJsJSw-jd9V",
        "outputId": "f520bb0a-9021-43db-9a9b-98b7f8ebc736"
      },
      "execution_count": 73,
      "outputs": [
        {
          "output_type": "execute_result",
          "data": {
            "text/plain": [
              "164047"
            ]
          },
          "metadata": {},
          "execution_count": 73
        }
      ]
    },
    {
      "cell_type": "code",
      "source": [
        "file_buffer"
      ],
      "metadata": {
        "id": "Ogl_EvHyjlqV"
      },
      "execution_count": null,
      "outputs": []
    },
    {
      "cell_type": "code",
      "source": [
        "file_buffer=file_buffer.lower()"
      ],
      "metadata": {
        "id": "YG3YjYHjkPuz"
      },
      "execution_count": 76,
      "outputs": []
    },
    {
      "cell_type": "code",
      "source": [
        "file_buffer"
      ],
      "metadata": {
        "id": "2C9xttWrkaBh"
      },
      "execution_count": null,
      "outputs": []
    },
    {
      "cell_type": "code",
      "source": [
        "file2 = open('word_file.txt','w')"
      ],
      "metadata": {
        "id": "icD66Wf-khH_"
      },
      "execution_count": 78,
      "outputs": []
    },
    {
      "cell_type": "code",
      "source": [
        "for each_char in file_buffer:\n",
        "  if each_char >= 'a' or each_char <= 'z':\n",
        "    file2.write(each_char)\n",
        "  else:\n",
        "    file2.write(' ')"
      ],
      "metadata": {
        "id": "rpi1sMnhlEsN"
      },
      "execution_count": 79,
      "outputs": []
    },
    {
      "cell_type": "code",
      "source": [
        "file1.close()\n",
        "file2.close()"
      ],
      "metadata": {
        "id": "qVOy_es9l_wO"
      },
      "execution_count": 81,
      "outputs": []
    },
    {
      "cell_type": "code",
      "source": [
        "fp3 = open('word_file.txt','r')"
      ],
      "metadata": {
        "id": "4eWyNB54mvqr"
      },
      "execution_count": 82,
      "outputs": []
    },
    {
      "cell_type": "code",
      "source": [
        "word_buffer = fp3.read()"
      ],
      "metadata": {
        "id": "HVvjdHq0mj1J"
      },
      "execution_count": 83,
      "outputs": []
    },
    {
      "cell_type": "code",
      "source": [
        "len(word_buffer)"
      ],
      "metadata": {
        "colab": {
          "base_uri": "https://localhost:8080/"
        },
        "id": "22Z9_nfrnRQx",
        "outputId": "f842e9d5-1b27-478e-aa85-871df8aa41f4"
      },
      "execution_count": 84,
      "outputs": [
        {
          "output_type": "execute_result",
          "data": {
            "text/plain": [
              "164047"
            ]
          },
          "metadata": {},
          "execution_count": 84
        }
      ]
    },
    {
      "cell_type": "code",
      "source": [
        "word_buffer"
      ],
      "metadata": {
        "id": "brGs0ty4nfTg"
      },
      "execution_count": null,
      "outputs": []
    },
    {
      "cell_type": "code",
      "source": [
        "word_list = word_buffer.split()"
      ],
      "metadata": {
        "id": "MVSsvPxznmpa"
      },
      "execution_count": 86,
      "outputs": []
    },
    {
      "cell_type": "code",
      "source": [
        "word_list"
      ],
      "metadata": {
        "id": "dpv4GMVgonM8"
      },
      "execution_count": null,
      "outputs": []
    },
    {
      "cell_type": "code",
      "source": [
        "len(word_list)"
      ],
      "metadata": {
        "colab": {
          "base_uri": "https://localhost:8080/"
        },
        "id": "kIMjARiNoVtd",
        "outputId": "ae6b0f65-ac71-493b-c565-07c0b4dc7c6e"
      },
      "execution_count": 88,
      "outputs": [
        {
          "output_type": "execute_result",
          "data": {
            "text/plain": [
              "29594"
            ]
          },
          "metadata": {},
          "execution_count": 88
        }
      ]
    },
    {
      "cell_type": "code",
      "source": [
        "import collections as cc"
      ],
      "metadata": {
        "id": "-537SHkko2Cj"
      },
      "execution_count": 89,
      "outputs": []
    },
    {
      "cell_type": "code",
      "source": [
        "word_collect = cc.Counter(word_list)"
      ],
      "metadata": {
        "id": "TPck-x8Sp2s-"
      },
      "execution_count": 90,
      "outputs": []
    },
    {
      "cell_type": "code",
      "source": [
        "word_collect"
      ],
      "metadata": {
        "id": "L2BhRSEBqLxM"
      },
      "execution_count": null,
      "outputs": []
    },
    {
      "cell_type": "code",
      "source": [
        "type(word_collect)"
      ],
      "metadata": {
        "colab": {
          "base_uri": "https://localhost:8080/"
        },
        "id": "qBB23EYuqVb9",
        "outputId": "8fc96c68-1147-44c5-891d-e738e7271473"
      },
      "execution_count": 92,
      "outputs": [
        {
          "output_type": "execute_result",
          "data": {
            "text/plain": [
              "collections.Counter"
            ]
          },
          "metadata": {},
          "execution_count": 92
        }
      ]
    },
    {
      "cell_type": "code",
      "source": [
        "word_collect = dict(word_collect)"
      ],
      "metadata": {
        "id": "qhWR7zx0qllG"
      },
      "execution_count": 93,
      "outputs": []
    },
    {
      "cell_type": "code",
      "source": [
        "type(word_collect)"
      ],
      "metadata": {
        "id": "gO6N-2mDqt7R"
      },
      "execution_count": null,
      "outputs": []
    },
    {
      "cell_type": "code",
      "source": [
        "pruned_word_collect = [(i,j) for i, j in word_collect.items() if len(i) > 3]"
      ],
      "metadata": {
        "id": "BUuiNke_q1LH"
      },
      "execution_count": 95,
      "outputs": []
    },
    {
      "cell_type": "code",
      "source": [
        "pruned_word_collect"
      ],
      "metadata": {
        "id": "0ui3LVfrq1ad"
      },
      "execution_count": null,
      "outputs": []
    },
    {
      "cell_type": "code",
      "source": [
        "len(pruned_word_collect)"
      ],
      "metadata": {
        "id": "M78BmUh4sFjp"
      },
      "execution_count": null,
      "outputs": []
    },
    {
      "cell_type": "code",
      "source": [
        "x = dict(pruned_word_collect).keys()\n",
        "y = dict(pruned_word_collect).values()"
      ],
      "metadata": {
        "id": "iSBDj0L5uAQz"
      },
      "execution_count": 98,
      "outputs": []
    },
    {
      "cell_type": "code",
      "source": [
        "pruned_word_collect = dict(pruned_word_collect)"
      ],
      "metadata": {
        "id": "40ZCYne7wGmA"
      },
      "execution_count": 99,
      "outputs": []
    },
    {
      "cell_type": "code",
      "source": [
        "import matplotlib.pyplot as plt"
      ],
      "metadata": {
        "id": "2tiIq2tBuW20"
      },
      "execution_count": 100,
      "outputs": []
    },
    {
      "cell_type": "code",
      "source": [
        "plt.plot(list(x),list(y))\n",
        "plt.plot()"
      ],
      "metadata": {
        "id": "repdGHHYu9Xn"
      },
      "execution_count": null,
      "outputs": []
    },
    {
      "cell_type": "code",
      "source": [
        "high_freq_dict = [(i,j) for i,j in pruned_word_collect.items() if j > 250]"
      ],
      "metadata": {
        "id": "VunI22sEviDb"
      },
      "execution_count": 112,
      "outputs": []
    },
    {
      "cell_type": "code",
      "source": [
        "x = dict(high_freq_dict).keys()\n",
        "y = dict(high_freq_dict).values()"
      ],
      "metadata": {
        "id": "Gxdd8C9rwiEj"
      },
      "execution_count": 113,
      "outputs": []
    },
    {
      "cell_type": "code",
      "source": [
        "plt.plot(list(x), list(y))\n",
        "plt.show()\n"
      ],
      "metadata": {
        "id": "ozRsCf5Zw5fV"
      },
      "execution_count": null,
      "outputs": []
    }
  ]
}